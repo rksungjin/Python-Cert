{
 "metadata": {
  "language_info": {
   "codemirror_mode": {
    "name": "ipython",
    "version": 3
   },
   "file_extension": ".py",
   "mimetype": "text/x-python",
   "name": "python",
   "nbconvert_exporter": "python",
   "pygments_lexer": "ipython3",
   "version": "3.8.5-final"
  },
  "orig_nbformat": 2,
  "kernelspec": {
   "name": "python_defaultSpec_1598923471657",
   "display_name": "Python 3.8.5 32-bit"
  }
 },
 "nbformat": 4,
 "nbformat_minor": 2,
 "cells": [
  {
   "cell_type": "code",
   "execution_count": 1,
   "metadata": {
    "tags": []
   },
   "outputs": [
    {
     "output_type": "stream",
     "name": "stdout",
     "text": "Each person needs to pay:27.186\n"
    }
   ],
   "source": [
    "#Question 1\n",
    "#In this scenario, two friends are eating dinner at a restaurant. The bill comes in the amount of 47.28 dollars. The friends decide to split the bill evenly between them, after adding 15% tip for the service. Calculate the tip, the total amount to pay, and each friend's share, then output a message saying \"Each person needs to pay: \" followed by the resulting number.\n",
    "bill = 47.28\n",
    "tip = bill * .15\n",
    "total = bill + tip\n",
    "share = total/2 \n",
    "print(\"Each person needs to pay:\" + str(share))\n"
   ]
  },
  {
   "cell_type": "code",
   "execution_count": null,
   "metadata": {},
   "outputs": [],
   "source": [
    "# Question 2\n",
    "#This code is supposed to take two numbers, divide one by another so that the result is equal to 1, and display the result on the screen. Unfortunately, there is an error in the code. Find the error and fix it, so that the output is correct.\n",
    "numerator = 10\n",
    "denominator = 10\n",
    "result = numerator / denominator\n",
    "print(result)"
   ]
  },
  {
   "cell_type": "code",
   "execution_count": 2,
   "metadata": {
    "tags": []
   },
   "outputs": [
    {
     "output_type": "stream",
     "name": "stdout",
     "text": "How do you like Python so far?\n"
    }
   ],
   "source": [
    "#3.Question 3 Combine the variables to display the sentence \"How do you like Python so far?\"\n",
    "word1 = \"How\"\n",
    "word2 = \" do\"\n",
    "word3 = \" you\"\n",
    "word4 = \" like\"\n",
    "word5 = \" Python\"\n",
    "word6 = \" so\"\n",
    "word7 = \" far?\"\n",
    "\n",
    "print(word1  + word2 + word3 + word4+ word5 + word6+ word7)"
   ]
  },
  {
   "cell_type": "code",
   "execution_count": 3,
   "metadata": {
    "tags": []
   },
   "outputs": [
    {
     "output_type": "stream",
     "name": "stdout",
     "text": "2 + 2 = 4\n"
    }
   ],
   "source": [
    "#4.Question 4 This code is supposed to display \"2 + 2 = 4\" on the screen, but there is an error. Find the error in the code and fix it, so that the output is correct.\n",
    "print(\"2 + 2 = \" + str(2 + 2))\n"
   ]
  },
  {
   "cell_type": "code",
   "execution_count": null,
   "metadata": {},
   "outputs": [],
   "source": []
  }
 ]
}